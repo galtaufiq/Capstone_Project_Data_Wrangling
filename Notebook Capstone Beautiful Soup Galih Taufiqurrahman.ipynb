{
 "cells": [
  {
   "cell_type": "markdown",
   "metadata": {},
   "source": [
    "# Capstone Webscrapping using BeautifulSoup\n",
    "\n",
    "This notebook contains guidances & tasks on the data processing for the application\n",
    "\n",
    "(Please insert the background here )\n",
    "\n",
    "\n",
    "## Requesting the Data and Creating a BeautifulSoup\n",
    "\n",
    "Let's begin with requesting the web from the site with `get` method."
   ]
  },
  {
   "cell_type": "code",
   "execution_count": 1,
   "metadata": {
    "ExecuteTime": {
     "end_time": "2020-01-13T05:12:23.275508Z",
     "start_time": "2020-01-13T05:12:20.009898Z"
    }
   },
   "outputs": [],
   "source": [
    "import requests\n",
    "\n",
    "url_get = requests.get('https://www.exchange-rates.org/history/IDR/USD/T')"
   ]
  },
  {
   "cell_type": "markdown",
   "metadata": {},
   "source": [
    "To visualize what exactly you get from the `request.get`, we can use .content so ee what we exactly get, in here i slice it so it won't make our screen full of the html we get from the page. You can delete the slicing if you want to see what we fully get."
   ]
  },
  {
   "cell_type": "code",
   "execution_count": 2,
   "metadata": {
    "ExecuteTime": {
     "end_time": "2020-01-13T05:12:23.290648Z",
     "start_time": "2020-01-13T05:12:23.277650Z"
    }
   },
   "outputs": [
    {
     "data": {
      "text/plain": [
       "b'\\n<!DOCTYPE html>\\r\\n<!--[if lt IE 9]>\\r\\n    <html class=\"no-js ie8 oldie\" lang=\\'en\\' xml:lang=\\'en\\'>\\r\\n<![endif]-->\\r\\n<!--[if gt IE 8]><!--> <html class=\"no-js\" lang=\\'en\\' xml:lang=\\'en\\'> <!--<![endif]-->\\r\\n<head><title>Indonesian Rupiah Exchange Rate - US Dollar - Historical Exchange Rates</title>\\n<meta http-equiv=\"X-UA-Compatible\" content=\"IE=edge\">\\n<meta content=\"C#\" name=\"CODE_LANGUAGE\" />\\n<meta content=\"JavaScript\" name=\"vs_defaultClientScript\" />\\n<meta content=\"http://schemas.microsoft.com/intellisense/ie5\" name=\"vs_targetSchema\" />\\n<meta name=\"viewport\" content=\"width=device-width, initial-scale=1, maximum-scale=5\">\\n<meta http-equiv=\"Content-Type\" content=\"text/html; charset=utf-8\" />\\n\\n<meta name=\"mapping\" content=\"AP\" />\\n<base href=\"https://www.exchange-rates.org/\" />'"
      ]
     },
     "execution_count": 2,
     "metadata": {},
     "output_type": "execute_result"
    }
   ],
   "source": [
    "url_get.content[1:777]"
   ]
  },
  {
   "cell_type": "markdown",
   "metadata": {},
   "source": [
    "As we can see we get a very unstructured and complex html, which actually contains the codes needed to show the webpages on your web browser. But we as human still confused what and where we can use that piece of code, so here where we use the beautifulsoup. Beautiful soup class will result a beautifulsoup object. Beautiful Soup transforms a complex HTML document into a complex tree of Python objects. \n",
    "\n",
    "Let's make Beautiful soup object and feel free to explore the object here."
   ]
  },
  {
   "cell_type": "code",
   "execution_count": 3,
   "metadata": {
    "ExecuteTime": {
     "end_time": "2020-01-13T05:12:23.808122Z",
     "start_time": "2020-01-13T05:12:23.292610Z"
    }
   },
   "outputs": [
    {
     "name": "stdout",
     "output_type": "stream",
     "text": [
      "<class 'bs4.BeautifulSoup'>\n"
     ]
    }
   ],
   "source": [
    "from bs4 import BeautifulSoup \n",
    "\n",
    "soup = BeautifulSoup(url_get.content,\"html.parser\")\n",
    "print(type(soup))"
   ]
  },
  {
   "cell_type": "markdown",
   "metadata": {},
   "source": [
    "## Finding the right key to scrap the data & Extracting the right information"
   ]
  },
  {
   "cell_type": "markdown",
   "metadata": {},
   "source": [
    "Find the key and put the key into the `.find()` Put all the exploring the right key at this cell. (please change this markdown with your explanation)"
   ]
  },
  {
   "cell_type": "code",
   "execution_count": 4,
   "metadata": {
    "ExecuteTime": {
     "end_time": "2020-01-13T05:12:23.878904Z",
     "start_time": "2020-01-13T05:12:23.854974Z"
    },
    "scrolled": true
   },
   "outputs": [
    {
     "name": "stdout",
     "output_type": "stream",
     "text": [
      "div class=\"table-responsive\">\n",
      " <table class=\"table table-striped table-hover table-hover-solid-row table-simple history-data\">\n",
      "  <tbody>\n",
      "   <tr>\n",
      "    <td>\n",
      "     11/27/2020\n",
      "    </td>\n",
      "    <td>\n",
      "     Friday\n",
      "    </td>\n",
      "    <td>\n",
      "     <a href=\"/Rate/USD/IDR/11-27-2020\">\n",
      "      14,078.12448\n",
      "     </a>\n",
      "     IDR\n",
      "    </td>\n",
      "    <td class=\"text-narrow-screen-hidden\">\n",
      "     <a href=\"/Rate/USD/IDR/11-27-2020\">\n",
      "      USD IDR rate for 11/27/2020\n",
      "     </a>\n",
      "    </td>\n",
      "   </tr>\n",
      "   <tr>\n",
      "    <td>\n",
      "     11/26/2020\n",
      "    </td>\n",
      "\n"
     ]
    }
   ],
   "source": [
    "table = soup.find('div', attrs={'class':'table-responsive'})\n",
    "print(table.prettify()[1:500])"
   ]
  },
  {
   "cell_type": "code",
   "execution_count": 5,
   "metadata": {},
   "outputs": [
    {
     "data": {
      "text/plain": [
       "[<tr><td>11/27/2020</td><td>Friday</td><td><a href=\"/Rate/USD/IDR/11-27-2020\">14,078.12448</a> IDR</td><td class=\"text-narrow-screen-hidden\"><a href=\"/Rate/USD/IDR/11-27-2020\">USD IDR rate for 11/27/2020</a></td></tr>,\n",
       " <tr><td>11/26/2020</td><td>Thursday</td><td><a href=\"/Rate/USD/IDR/11-26-2020\">14,090.70769</a> IDR</td><td class=\"text-narrow-screen-hidden\"><a href=\"/Rate/USD/IDR/11-26-2020\">USD IDR rate for 11/26/2020</a></td></tr>]"
      ]
     },
     "execution_count": 5,
     "metadata": {},
     "output_type": "execute_result"
    }
   ],
   "source": [
    "tr = table.find_all('tr')\n",
    "tr[:2] # just call 2 founded tr"
   ]
  },
  {
   "cell_type": "markdown",
   "metadata": {},
   "source": [
    "Do the scrapping process here (please change this markdown with your explanation)"
   ]
  },
  {
   "cell_type": "code",
   "execution_count": 6,
   "metadata": {
    "ExecuteTime": {
     "end_time": "2020-01-13T05:12:24.008256Z",
     "start_time": "2020-01-13T05:12:23.980358Z"
    }
   },
   "outputs": [
    {
     "data": {
      "text/plain": [
       "[('11/26/2020', 'Thursday', '14,090.70769 IDR', 'USD IDR rate for 11/26/2020'),\n",
       " ('11/25/2020',\n",
       "  'Wednesday',\n",
       "  '14,136.09929 IDR',\n",
       "  'USD IDR rate for 11/25/2020'),\n",
       " ('11/24/2020', 'Tuesday', '14,137.48161 IDR', 'USD IDR rate for 11/24/2020'),\n",
       " ('11/23/2020', 'Monday', '14,185.57119 IDR', 'USD IDR rate for 11/23/2020'),\n",
       " ('11/20/2020', 'Friday', '14,162.60519 IDR', 'USD IDR rate for 11/20/2020'),\n",
       " ('11/19/2020', 'Thursday', '14,165.50144 IDR', 'USD IDR rate for 11/19/2020'),\n",
       " ('11/18/2020',\n",
       "  'Wednesday',\n",
       "  '14,051.29503 IDR',\n",
       "  'USD IDR rate for 11/18/2020'),\n",
       " ('11/17/2020', 'Tuesday', '14,040.16051 IDR', 'USD IDR rate for 11/17/2020'),\n",
       " ('11/16/2020', 'Monday', '14,085.69501 IDR', 'USD IDR rate for 11/16/2020'),\n",
       " ('11/13/2020', 'Friday', '14,142.77143 IDR', 'USD IDR rate for 11/13/2020'),\n",
       " ('11/12/2020', 'Thursday', '14,141.24303 IDR', 'USD IDR rate for 11/12/2020'),\n",
       " ('11/11/2020',\n",
       "  'Wednesday',\n",
       "  '14,073.46024 IDR',\n",
       "  'USD IDR rate for 11/11/2020'),\n",
       " ('11/10/2020', 'Tuesday', '14,053.76135 IDR', 'USD IDR rate for 11/10/2020'),\n",
       " ('11/9/2020', 'Monday', '14,283.29667 IDR', 'USD IDR rate for 11/9/2020'),\n",
       " ('11/6/2020', 'Friday', '14,214.49744 IDR', 'USD IDR rate for 11/6/2020'),\n",
       " ('11/5/2020', 'Thursday', '14,389.14027 IDR', 'USD IDR rate for 11/5/2020'),\n",
       " ('11/4/2020', 'Wednesday', '14,544.44634 IDR', 'USD IDR rate for 11/4/2020'),\n",
       " ('11/3/2020', 'Tuesday', '14,589.01774 IDR', 'USD IDR rate for 11/3/2020'),\n",
       " ('11/2/2020', 'Monday', '14,612.89990 IDR', 'USD IDR rate for 11/2/2020'),\n",
       " ('10/30/2020', 'Friday', '14,629.16216 IDR', 'USD IDR rate for 10/30/2020'),\n",
       " ('10/29/2020', 'Thursday', '14,701.62361 IDR', 'USD IDR rate for 10/29/2020'),\n",
       " ('10/28/2020',\n",
       "  'Wednesday',\n",
       "  '14,701.92586 IDR',\n",
       "  'USD IDR rate for 10/28/2020'),\n",
       " ('10/27/2020', 'Tuesday', '14,649.78960 IDR', 'USD IDR rate for 10/27/2020'),\n",
       " ('10/26/2020', 'Monday', '14,652.88010 IDR', 'USD IDR rate for 10/26/2020'),\n",
       " ('10/23/2020', 'Friday', '14,655.04157 IDR', 'USD IDR rate for 10/23/2020'),\n",
       " ('10/22/2020', 'Thursday', '14,647.90877 IDR', 'USD IDR rate for 10/22/2020'),\n",
       " ('10/21/2020',\n",
       "  'Wednesday',\n",
       "  '14,641.61060 IDR',\n",
       "  'USD IDR rate for 10/21/2020'),\n",
       " ('10/20/2020', 'Tuesday', '14,555.88071 IDR', 'USD IDR rate for 10/20/2020'),\n",
       " ('10/19/2020', 'Monday', '14,705.13256 IDR', 'USD IDR rate for 10/19/2020'),\n",
       " ('10/16/2020', 'Friday', '14,688.43616 IDR', 'USD IDR rate for 10/16/2020'),\n",
       " ('10/15/2020', 'Thursday', '14,667.95340 IDR', 'USD IDR rate for 10/15/2020'),\n",
       " ('10/14/2020',\n",
       "  'Wednesday',\n",
       "  '14,696.21912 IDR',\n",
       "  'USD IDR rate for 10/14/2020'),\n",
       " ('10/13/2020', 'Tuesday', '14,687.35100 IDR', 'USD IDR rate for 10/13/2020'),\n",
       " ('10/12/2020', 'Monday', '14,677.85296 IDR', 'USD IDR rate for 10/12/2020'),\n",
       " ('10/9/2020', 'Friday', '14,679.27910 IDR', 'USD IDR rate for 10/9/2020'),\n",
       " ('10/8/2020', 'Thursday', '14,692.93025 IDR', 'USD IDR rate for 10/8/2020'),\n",
       " ('10/7/2020', 'Wednesday', '14,705.58246 IDR', 'USD IDR rate for 10/7/2020'),\n",
       " ('10/6/2020', 'Tuesday', '14,857.67854 IDR', 'USD IDR rate for 10/6/2020'),\n",
       " ('10/5/2020', 'Monday', '14,797.90178 IDR', 'USD IDR rate for 10/5/2020'),\n",
       " ('10/2/2020', 'Friday', '14,852.30483 IDR', 'USD IDR rate for 10/2/2020'),\n",
       " ('10/1/2020', 'Thursday', '14,822.66605 IDR', 'USD IDR rate for 10/1/2020'),\n",
       " ('9/30/2020', 'Wednesday', '14,867.44686 IDR', 'USD IDR rate for 9/30/2020'),\n",
       " ('9/29/2020', 'Tuesday', '14,880.93210 IDR', 'USD IDR rate for 9/29/2020'),\n",
       " ('9/28/2020', 'Monday', '14,892.32194 IDR', 'USD IDR rate for 9/28/2020'),\n",
       " ('9/27/2020', 'Sunday', '14,859.98349 IDR', 'USD IDR rate for 9/27/2020'),\n",
       " ('9/25/2020', 'Friday', '14,855.63943 IDR', 'USD IDR rate for 9/25/2020'),\n",
       " ('9/24/2020', 'Thursday', '14,888.78607 IDR', 'USD IDR rate for 9/24/2020'),\n",
       " ('9/23/2020', 'Wednesday', '14,825.54899 IDR', 'USD IDR rate for 9/23/2020'),\n",
       " ('9/22/2020', 'Tuesday', '14,751.85786 IDR', 'USD IDR rate for 9/22/2020'),\n",
       " ('9/21/2020', 'Monday', '14,701.43420 IDR', 'USD IDR rate for 9/21/2020'),\n",
       " ('9/20/2020', 'Sunday', '14,728.84529 IDR', 'USD IDR rate for 9/20/2020'),\n",
       " ('9/18/2020', 'Friday', '14,730.71792 IDR', 'USD IDR rate for 9/18/2020'),\n",
       " ('9/17/2020', 'Thursday', '14,829.41738 IDR', 'USD IDR rate for 9/17/2020'),\n",
       " ('9/16/2020', 'Wednesday', '14,807.88761 IDR', 'USD IDR rate for 9/16/2020'),\n",
       " ('9/15/2020', 'Tuesday', '14,843.44670 IDR', 'USD IDR rate for 9/15/2020'),\n",
       " ('9/14/2020', 'Monday', '14,864.65988 IDR', 'USD IDR rate for 9/14/2020'),\n",
       " ('9/13/2020', 'Sunday', '14,876.45021 IDR', 'USD IDR rate for 9/13/2020'),\n",
       " ('9/11/2020', 'Friday', '14,865.27553 IDR', 'USD IDR rate for 9/11/2020'),\n",
       " ('9/10/2020', 'Thursday', '14,871.58664 IDR', 'USD IDR rate for 9/10/2020'),\n",
       " ('9/9/2020', 'Wednesday', '14,783.50009 IDR', 'USD IDR rate for 9/9/2020'),\n",
       " ('9/8/2020', 'Tuesday', '14,839.54267 IDR', 'USD IDR rate for 9/8/2020'),\n",
       " ('9/7/2020', 'Monday', '14,743.92989 IDR', 'USD IDR rate for 9/7/2020'),\n",
       " ('9/6/2020', 'Sunday', '14,754.95155 IDR', 'USD IDR rate for 9/6/2020'),\n",
       " ('9/4/2020', 'Friday', '14,755.44144 IDR', 'USD IDR rate for 9/4/2020'),\n",
       " ('9/3/2020', 'Thursday', '14,725.75623 IDR', 'USD IDR rate for 9/3/2020'),\n",
       " ('9/2/2020', 'Wednesday', '14,752.83593 IDR', 'USD IDR rate for 9/2/2020'),\n",
       " ('9/1/2020', 'Tuesday', '14,657.30327 IDR', 'USD IDR rate for 9/1/2020'),\n",
       " ('8/31/2020', 'Monday', '14,538.95869 IDR', 'USD IDR rate for 8/31/2020'),\n",
       " ('8/30/2020', 'Sunday', '14,620.74081 IDR', 'USD IDR rate for 8/30/2020'),\n",
       " ('8/28/2020', 'Friday', '14,624.63146 IDR', 'USD IDR rate for 8/28/2020'),\n",
       " ('8/27/2020', 'Thursday', '14,641.58320 IDR', 'USD IDR rate for 8/27/2020'),\n",
       " ('8/26/2020', 'Wednesday', '14,650.54899 IDR', 'USD IDR rate for 8/26/2020'),\n",
       " ('8/25/2020', 'Tuesday', '14,634.54337 IDR', 'USD IDR rate for 8/25/2020'),\n",
       " ('8/24/2020', 'Monday', '14,723.44674 IDR', 'USD IDR rate for 8/24/2020'),\n",
       " ('8/23/2020', 'Sunday', '14,777.76475 IDR', 'USD IDR rate for 8/23/2020'),\n",
       " ('8/21/2020', 'Friday', '14,779.64056 IDR', 'USD IDR rate for 8/21/2020'),\n",
       " ('8/20/2020', 'Thursday', '14,744.53672 IDR', 'USD IDR rate for 8/20/2020'),\n",
       " ('8/19/2020', 'Wednesday', '14,892.13287 IDR', 'USD IDR rate for 8/19/2020'),\n",
       " ('8/18/2020', 'Tuesday', '14,840.94794 IDR', 'USD IDR rate for 8/18/2020'),\n",
       " ('8/17/2020', 'Monday', '14,745.02603 IDR', 'USD IDR rate for 8/17/2020'),\n",
       " ('8/16/2020', 'Sunday', '14,752.59007 IDR', 'USD IDR rate for 8/16/2020'),\n",
       " ('8/14/2020', 'Friday', '14,755.08179 IDR', 'USD IDR rate for 8/14/2020'),\n",
       " ('8/13/2020', 'Thursday', '14,730.67678 IDR', 'USD IDR rate for 8/13/2020'),\n",
       " ('8/12/2020', 'Wednesday', '14,746.93479 IDR', 'USD IDR rate for 8/12/2020'),\n",
       " ('8/11/2020', 'Tuesday', '14,683.96263 IDR', 'USD IDR rate for 8/11/2020'),\n",
       " ('8/10/2020', 'Monday', '14,635.89132 IDR', 'USD IDR rate for 8/10/2020'),\n",
       " ('8/9/2020', 'Sunday', '14,668.96550 IDR', 'USD IDR rate for 8/9/2020'),\n",
       " ('8/7/2020', 'Friday', '14,606.06472 IDR', 'USD IDR rate for 8/7/2020'),\n",
       " ('8/6/2020', 'Thursday', '14,572.05634 IDR', 'USD IDR rate for 8/6/2020'),\n",
       " ('8/5/2020', 'Wednesday', '14,510.27288 IDR', 'USD IDR rate for 8/5/2020'),\n",
       " ('8/4/2020', 'Tuesday', '14,535.77574 IDR', 'USD IDR rate for 8/4/2020'),\n",
       " ('8/3/2020', 'Monday', '14,578.90531 IDR', 'USD IDR rate for 8/3/2020'),\n",
       " ('8/2/2020', 'Sunday', '14,636.91361 IDR', 'USD IDR rate for 8/2/2020'),\n",
       " ('7/31/2020', 'Friday', '14,640.92152 IDR', 'USD IDR rate for 7/31/2020'),\n",
       " ('7/30/2020', 'Thursday', '14,552.65469 IDR', 'USD IDR rate for 7/30/2020'),\n",
       " ('7/29/2020', 'Wednesday', '14,500.86496 IDR', 'USD IDR rate for 7/29/2020'),\n",
       " ('7/28/2020', 'Tuesday', '14,572.13548 IDR', 'USD IDR rate for 7/28/2020'),\n",
       " ('7/27/2020', 'Monday', '14,505.01200 IDR', 'USD IDR rate for 7/27/2020'),\n",
       " ('7/26/2020', 'Sunday', '14,578.95006 IDR', 'USD IDR rate for 7/26/2020'),\n",
       " ('7/24/2020', 'Friday', '14,568.35458 IDR', 'USD IDR rate for 7/24/2020'),\n",
       " ('7/23/2020', 'Thursday', '14,605.50142 IDR', 'USD IDR rate for 7/23/2020'),\n",
       " ('7/22/2020', 'Wednesday', '14,651.65404 IDR', 'USD IDR rate for 7/22/2020'),\n",
       " ('7/21/2020', 'Tuesday', '14,679.86959 IDR', 'USD IDR rate for 7/21/2020'),\n",
       " ('7/20/2020', 'Monday', '14,773.77977 IDR', 'USD IDR rate for 7/20/2020'),\n",
       " ('7/17/2020', 'Friday', '14,690.05172 IDR', 'USD IDR rate for 7/17/2020'),\n",
       " ('7/16/2020', 'Thursday', '14,564.60810 IDR', 'USD IDR rate for 7/16/2020'),\n",
       " ('7/15/2020', 'Wednesday', '14,589.26616 IDR', 'USD IDR rate for 7/15/2020'),\n",
       " ('7/14/2020', 'Tuesday', '14,417.89081 IDR', 'USD IDR rate for 7/14/2020'),\n",
       " ('7/13/2020', 'Monday', '14,390.84796 IDR', 'USD IDR rate for 7/13/2020'),\n",
       " ('7/12/2020', 'Sunday', '14,420.01800 IDR', 'USD IDR rate for 7/12/2020'),\n",
       " ('7/10/2020', 'Friday', '14,365.25218 IDR', 'USD IDR rate for 7/10/2020'),\n",
       " ('7/9/2020', 'Thursday', '14,343.31797 IDR', 'USD IDR rate for 7/9/2020'),\n",
       " ('7/8/2020', 'Wednesday', '14,378.37552 IDR', 'USD IDR rate for 7/8/2020'),\n",
       " ('7/7/2020', 'Tuesday', '14,445.31657 IDR', 'USD IDR rate for 7/7/2020'),\n",
       " ('7/6/2020', 'Monday', '14,289.25101 IDR', 'USD IDR rate for 7/6/2020'),\n",
       " ('7/5/2020', 'Sunday', '14,498.63510 IDR', 'USD IDR rate for 7/5/2020'),\n",
       " ('7/3/2020', 'Friday', '14,488.65681 IDR', 'USD IDR rate for 7/3/2020'),\n",
       " ('7/2/2020', 'Thursday', '14,378.36972 IDR', 'USD IDR rate for 7/2/2020'),\n",
       " ('7/1/2020', 'Wednesday', '14,256.13040 IDR', 'USD IDR rate for 7/1/2020'),\n",
       " ('6/30/2020', 'Tuesday', '14,296.90560 IDR', 'USD IDR rate for 6/30/2020'),\n",
       " ('6/29/2020', 'Monday', '14,183.53912 IDR', 'USD IDR rate for 6/29/2020'),\n",
       " ('6/28/2020', 'Sunday', '14,185.08225 IDR', 'USD IDR rate for 6/28/2020'),\n",
       " ('6/26/2020', 'Friday', '14,190.21303 IDR', 'USD IDR rate for 6/26/2020'),\n",
       " ('6/25/2020', 'Thursday', '14,130.57047 IDR', 'USD IDR rate for 6/25/2020'),\n",
       " ('6/24/2020', 'Wednesday', '14,143.17320 IDR', 'USD IDR rate for 6/24/2020'),\n",
       " ('6/23/2020', 'Tuesday', '14,148.27391 IDR', 'USD IDR rate for 6/23/2020'),\n",
       " ('6/22/2020', 'Monday', '14,136.05128 IDR', 'USD IDR rate for 6/22/2020'),\n",
       " ('6/21/2020', 'Sunday', '14,068.55627 IDR', 'USD IDR rate for 6/21/2020'),\n",
       " ('6/19/2020', 'Friday', '14,077.63950 IDR', 'USD IDR rate for 6/19/2020'),\n",
       " ('6/18/2020', 'Thursday', '14,095.36729 IDR', 'USD IDR rate for 6/18/2020'),\n",
       " ('6/17/2020', 'Wednesday', '14,120.02241 IDR', 'USD IDR rate for 6/17/2020'),\n",
       " ('6/16/2020', 'Tuesday', '14,046.73959 IDR', 'USD IDR rate for 6/16/2020'),\n",
       " ('6/15/2020', 'Monday', '14,021.62200 IDR', 'USD IDR rate for 6/15/2020'),\n",
       " ('6/14/2020', 'Sunday', '14,145.23543 IDR', 'USD IDR rate for 6/14/2020'),\n",
       " ('6/12/2020', 'Friday', '14,121.55442 IDR', 'USD IDR rate for 6/12/2020'),\n",
       " ('6/11/2020', 'Thursday', '13,966.85142 IDR', 'USD IDR rate for 6/11/2020'),\n",
       " ('6/10/2020', 'Wednesday', '13,976.91611 IDR', 'USD IDR rate for 6/10/2020'),\n",
       " ('6/9/2020', 'Tuesday', '13,870.75718 IDR', 'USD IDR rate for 6/9/2020'),\n",
       " ('6/8/2020', 'Monday', '13,867.95377 IDR', 'USD IDR rate for 6/8/2020'),\n",
       " ('6/7/2020', 'Sunday', '13,989.39489 IDR', 'USD IDR rate for 6/7/2020'),\n",
       " ('6/5/2020', 'Friday', '14,305.96407 IDR', 'USD IDR rate for 6/5/2020'),\n",
       " ('6/4/2020', 'Thursday', '14,113.82802 IDR', 'USD IDR rate for 6/4/2020'),\n",
       " ('6/3/2020', 'Wednesday', '14,060.78946 IDR', 'USD IDR rate for 6/3/2020'),\n",
       " ('6/2/2020', 'Tuesday', '14,382.27395 IDR', 'USD IDR rate for 6/2/2020'),\n",
       " ('6/1/2020', 'Monday', '14,586.73900 IDR', 'USD IDR rate for 6/1/2020'),\n",
       " ('5/31/2020', 'Sunday', '14,664.14584 IDR', 'USD IDR rate for 5/31/2020')]"
      ]
     },
     "execution_count": 6,
     "metadata": {},
     "output_type": "execute_result"
    }
   ],
   "source": [
    "temp = [] #initiating a tuple\n",
    "\n",
    "for i in range(1, len(tr)):\n",
    "    row = table.find_all('tr')[i]\n",
    "\n",
    "    #get date\n",
    "    period = row.find_all('td')[0].text\n",
    "    period = period.strip() #for removing the excess whitespace\n",
    "    \n",
    "    #get days\n",
    "    days = row.find_all('td')[1].text\n",
    "    days = days.strip() #for removing the excess whitespace\n",
    "    \n",
    "    #get price rate\n",
    "    priceRate = row.find_all('td')[2].text\n",
    "    priceRate = priceRate.strip() #for removing the excess whitespace\n",
    "    \n",
    "    #get notes\n",
    "    notes = row.find_all('td')[3].text\n",
    "    notes = notes.strip() #for removing the excess whitespace\n",
    "       \n",
    "    temp.append((period,days, priceRate, notes)) \n",
    "    \n",
    "temp "
   ]
  },
  {
   "cell_type": "markdown",
   "metadata": {},
   "source": [
    "## Creating data frame & Data wrangling"
   ]
  },
  {
   "cell_type": "markdown",
   "metadata": {},
   "source": [
    "Put the array into dataframe"
   ]
  },
  {
   "cell_type": "code",
   "execution_count": 7,
   "metadata": {
    "ExecuteTime": {
     "end_time": "2020-01-13T05:12:41.517372Z",
     "start_time": "2020-01-13T05:12:29.130015Z"
    }
   },
   "outputs": [
    {
     "data": {
      "text/html": [
       "<div>\n",
       "<style scoped>\n",
       "    .dataframe tbody tr th:only-of-type {\n",
       "        vertical-align: middle;\n",
       "    }\n",
       "\n",
       "    .dataframe tbody tr th {\n",
       "        vertical-align: top;\n",
       "    }\n",
       "\n",
       "    .dataframe thead th {\n",
       "        text-align: right;\n",
       "    }\n",
       "</style>\n",
       "<table border=\"1\" class=\"dataframe\">\n",
       "  <thead>\n",
       "    <tr style=\"text-align: right;\">\n",
       "      <th></th>\n",
       "      <th>period</th>\n",
       "      <th>days</th>\n",
       "      <th>priceRate</th>\n",
       "      <th>notes</th>\n",
       "    </tr>\n",
       "  </thead>\n",
       "  <tbody>\n",
       "    <tr>\n",
       "      <th>0</th>\n",
       "      <td>11/26/2020</td>\n",
       "      <td>Thursday</td>\n",
       "      <td>14,090.70769 IDR</td>\n",
       "      <td>USD IDR rate for 11/26/2020</td>\n",
       "    </tr>\n",
       "    <tr>\n",
       "      <th>1</th>\n",
       "      <td>11/25/2020</td>\n",
       "      <td>Wednesday</td>\n",
       "      <td>14,136.09929 IDR</td>\n",
       "      <td>USD IDR rate for 11/25/2020</td>\n",
       "    </tr>\n",
       "    <tr>\n",
       "      <th>2</th>\n",
       "      <td>11/24/2020</td>\n",
       "      <td>Tuesday</td>\n",
       "      <td>14,137.48161 IDR</td>\n",
       "      <td>USD IDR rate for 11/24/2020</td>\n",
       "    </tr>\n",
       "    <tr>\n",
       "      <th>3</th>\n",
       "      <td>11/23/2020</td>\n",
       "      <td>Monday</td>\n",
       "      <td>14,185.57119 IDR</td>\n",
       "      <td>USD IDR rate for 11/23/2020</td>\n",
       "    </tr>\n",
       "    <tr>\n",
       "      <th>4</th>\n",
       "      <td>11/20/2020</td>\n",
       "      <td>Friday</td>\n",
       "      <td>14,162.60519 IDR</td>\n",
       "      <td>USD IDR rate for 11/20/2020</td>\n",
       "    </tr>\n",
       "  </tbody>\n",
       "</table>\n",
       "</div>"
      ],
      "text/plain": [
       "       period       days         priceRate                        notes\n",
       "0  11/26/2020   Thursday  14,090.70769 IDR  USD IDR rate for 11/26/2020\n",
       "1  11/25/2020  Wednesday  14,136.09929 IDR  USD IDR rate for 11/25/2020\n",
       "2  11/24/2020    Tuesday  14,137.48161 IDR  USD IDR rate for 11/24/2020\n",
       "3  11/23/2020     Monday  14,185.57119 IDR  USD IDR rate for 11/23/2020\n",
       "4  11/20/2020     Friday  14,162.60519 IDR  USD IDR rate for 11/20/2020"
      ]
     },
     "execution_count": 7,
     "metadata": {},
     "output_type": "execute_result"
    }
   ],
   "source": [
    "import pandas as pd\n",
    "\n",
    "df = pd.DataFrame(temp, columns = ('period','days', 'priceRate', 'notes'))\n",
    "df.head()"
   ]
  },
  {
   "cell_type": "markdown",
   "metadata": {},
   "source": [
    "Setelah mendapatkan Data Frame yang diinginkan, disini saya melakukan beberapa langkah untuk memastikan bahwa Data Frame yang saya miliki sudah ideal untuk dapat di olah, mulai dari:\n",
    "\n",
    "- Mendefinisikan tipe default data yang terdapat pada Data Frame awal\n",
    "- Mengganti beberapa tipe default data menjadi tipe data yang lebih sesuai\n",
    "- Menjadikan kolom Waktu (tanggal/bulan/tahun) menjadi Index dasar"
   ]
  },
  {
   "cell_type": "code",
   "execution_count": 8,
   "metadata": {
    "ExecuteTime": {
     "end_time": "2020-01-13T05:12:59.165559Z",
     "start_time": "2020-01-13T05:12:58.910012Z"
    },
    "scrolled": true
   },
   "outputs": [
    {
     "data": {
      "text/plain": [
       "period       object\n",
       "days         object\n",
       "priceRate    object\n",
       "notes        object\n",
       "dtype: object"
      ]
     },
     "execution_count": 8,
     "metadata": {},
     "output_type": "execute_result"
    }
   ],
   "source": [
    "df.dtypes\n"
   ]
  },
  {
   "cell_type": "code",
   "execution_count": 9,
   "metadata": {},
   "outputs": [],
   "source": [
    "df['period'] = df['period'].astype('datetime64')"
   ]
  },
  {
   "cell_type": "code",
   "execution_count": 10,
   "metadata": {},
   "outputs": [],
   "source": [
    "df['days'] = df['days'].astype('category')"
   ]
  },
  {
   "cell_type": "code",
   "execution_count": 12,
   "metadata": {},
   "outputs": [],
   "source": [
    "df['priceRate'] = df['priceRate'].str.replace(\" IDR\",\"\")\n",
    "df['priceRate'] = df['priceRate'].str.replace(\",\",\"\")\n",
    "df['priceRate'] = df['priceRate'].astype('float64')"
   ]
  },
  {
   "cell_type": "code",
   "execution_count": null,
   "metadata": {},
   "outputs": [],
   "source": [
    "df['priceRate'] = df['priceRate'].round(2)"
   ]
  },
  {
   "cell_type": "code",
   "execution_count": null,
   "metadata": {
    "scrolled": true
   },
   "outputs": [],
   "source": [
    "df = df.set_index(['period'])"
   ]
  },
  {
   "cell_type": "markdown",
   "metadata": {},
   "source": [
    "### Implementing your webscrapping to the flask dashboard\n",
    "\n",
    "- Copy paste all of your web scrapping process to the desired position on the `app.py`\n",
    "- Changing the title of the dashboard at `index.html`"
   ]
  },
  {
   "cell_type": "markdown",
   "metadata": {},
   "source": [
    "## Finishing This Notebook with Your Analysis and Conclusion\n",
    "\n",
    "First you can do start with making the data visualisation. "
   ]
  },
  {
   "cell_type": "code",
   "execution_count": null,
   "metadata": {
    "scrolled": true
   },
   "outputs": [],
   "source": [
    "df.sort_values(by='priceRate', ascending=True)"
   ]
  },
  {
   "cell_type": "code",
   "execution_count": null,
   "metadata": {},
   "outputs": [],
   "source": [
    "df.nunique()"
   ]
  },
  {
   "cell_type": "code",
   "execution_count": null,
   "metadata": {
    "scrolled": true
   },
   "outputs": [],
   "source": [
    "df.plot()"
   ]
  },
  {
   "cell_type": "markdown",
   "metadata": {},
   "source": [
    "Berdasarkan data yang didapatkan dari situs https://www.exchange-rates.org/history/IDR/USD/T ini kita dapat menemukan bahwa hampir terjadi nya double bottom pada tingkat 'exchange rate' Rupiah terhadap dollar dalam kurun waktu 6 bulan terakhir, yakni di bulan Juni 2020 dan November 2020, dimana Rupiah menguat terhadap Dollar di 2 bulan ini dibandingkan dengan bulan lain nya yang tersedia pada data.\n",
    "\n",
    "Terdapat penguatan nilai Rupiah terhadap Dollar yang cukup baik pada bulan Mei 2020 (dapat dilihat dari nilai terendah (`min`) di angka IDR 13,868 yang terjadi pada 08/06/2020). Apabila kita melihat terkait informasi pasar yang terjadi pada bulan tersebut, saya menemukan bahwa:\n",
    "\n",
    "1. Pada bulan Juni 2020:\n",
    "\n",
    "a. Pengaruh manca negara\n",
    "- Pelaku pasar dinilai mulai sedikit lega melihat tensi hubungan AS & China yang mengendur. \n",
    "- Terdapat pernyataan dari Gedung Putih AS terkait tidak ada gelombang serangan kedua Covid-19 di AS juga cukup membuat lega pelaku pasar. \n",
    "- Proposal paket stimulus senilai US$1,5 triliun untuk pembangunan infrastruktur diperkirakan bakal berjalan mulus\n",
    "- Di Eropa, berbagai indikator seperti indeks manufaktur dan penjualan rumah menunjukkan tanda-tanda pemulihan ekonomi.\n",
    "        \n",
    "b. Pengaruh domestik\n",
    "- Kondisi perekonomian Indonesia masih tergolong lebih baik dibandingkan dengan negara lain di tengah pandemi virus corona, yakni tumbuh sebesar 2,97 persen pada kuartal I/2020.\n",
    "- Terdapat pelonggaran dalam kebijakan PSBB menjadi PSBB transisi yang membuat beberapa sektor usaha mulai dapat aktif kembali.\n",
    "- Pemerintah juga memperpanjang stimulus terutama dibidang kesehatan, bantuan langsung tunai, dan bantuan sosial hingga akhir 2020 untuk menjaga daya beli masyarakat. \n",
    "- Usaha dari Bank Indonesia untuk dapat menstabilkan mata uang Rupiah dan juga mengendalikan inflasi dengan melakukan koordinasi dengan pemerintah termasuk OJK dan LPS dalam menentukan bauran kebijakan.\n",
    "        \n",
    "Sumber berita: https://market.bisnis.com/read/20200625/93/1257369/nilai-tukar-rupiah-terhadap-dolar-as-hari-ini-25-juni-2020\n",
    "\n",
    "Kesimpulan: Nilai tukar Rupiah terhadap Dollar dapat menguat salah satu nya dikarenakan pengaruh sentimen pasar yang terjadi pada keadaan Ekonomi baik Global maupun Domestik.\n",
    "\n",
    "Informasi ini dapat menjadi salah satu referensi bagi trader Forex untuk dapat mengambil ancang-ancang pada saat ingin mulai meng-investasikan mata uang Rupiah yang mereka miliki pada waktu yang tepat"
   ]
  },
  {
   "cell_type": "markdown",
   "metadata": {},
   "source": [
    "### Extra Challange\n",
    "\n",
    "This will be not included to the scoring. \n",
    "\n",
    "- You can create additional analysis from the data.\n",
    "- Implement it to the dashboard with at `app.py` dan `index.html`."
   ]
  }
 ],
 "metadata": {
  "kernelspec": {
   "display_name": "Python 3",
   "language": "python",
   "name": "python3"
  },
  "toc": {
   "base_numbering": 1,
   "nav_menu": {},
   "number_sections": true,
   "sideBar": true,
   "skip_h1_title": false,
   "title_cell": "Table of Contents",
   "title_sidebar": "Contents",
   "toc_cell": false,
   "toc_position": {},
   "toc_section_display": true,
   "toc_window_display": true
  }
 },
 "nbformat": 4,
 "nbformat_minor": 2
}
